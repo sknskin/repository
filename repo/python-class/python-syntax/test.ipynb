{
 "cells": [
  {
   "cell_type": "code",
   "execution_count": 2,
   "metadata": {},
   "outputs": [
    {
     "name": "stdout",
     "output_type": "stream",
     "text": [
      "0.35660447994985023\n",
      "28.00446364502539\n"
     ]
    }
   ],
   "source": [
    "import random\n",
    "\n",
    "print(random.random())\n",
    "print(random.random() * 45 + 1)"
   ]
  },
  {
   "cell_type": "code",
   "execution_count": 3,
   "metadata": {},
   "outputs": [
    {
     "name": "stdout",
     "output_type": "stream",
     "text": [
      "SELECTED NUMBERS :  [3, 11, 17, 26, 29, 35, 45]\n"
     ]
    }
   ],
   "source": [
    "numbers = []\n",
    "while True:\n",
    "    current_number = int(random.random() * 45 + 1)\n",
    "    isDup = False\n",
    "    \n",
    "    for v in numbers:\n",
    "        if current_number == v:\n",
    "            isDup = True\n",
    "            break\n",
    "    \n",
    "    if not isDup:\n",
    "        numbers.append(current_number)\n",
    "\n",
    "    if len(numbers) > 6:\n",
    "        break\n",
    "\n",
    "numbers.sort()\n",
    "print('SELECTED NUMBERS : ', numbers)"
   ]
  },
  {
   "cell_type": "code",
   "execution_count": 7,
   "metadata": {},
   "outputs": [
    {
     "name": "stdout",
     "output_type": "stream",
     "text": [
      "duplicated\n",
      "SELECTED NUMBERS :  [2, 6, 13, 19, 35, 37, 38]\n"
     ]
    }
   ],
   "source": [
    "numbers = []\n",
    "\n",
    "while len(numbers) < 7:\n",
    "    current_number = int(random.random() * 45 + 1)\n",
    "\n",
    "    for v in numbers:\n",
    "        if current_number == v:\n",
    "            print('duplicated')\n",
    "            break\n",
    "    else:\n",
    "        numbers.append(current_number)\n",
    "    \n",
    "numbers.sort()\n",
    "print('SELECTED NUMBERS : ', numbers)"
   ]
  },
  {
   "cell_type": "code",
   "execution_count": 8,
   "metadata": {},
   "outputs": [],
   "source": [
    "def generate_basic_numbers(game_count=1):\n",
    "    numbers_list = []\n",
    "\n",
    "    for idx in range(game_count):\n",
    "        numbers = []\n",
    "\n",
    "        while len(numbers) < 7:\n",
    "            current_number = int(random.random() * 45 + 1)\n",
    "\n",
    "            for v in numbers:\n",
    "                if current_number == v:\n",
    "                    break\n",
    "            else:\n",
    "                numbers.append(current_number)\n",
    "        \n",
    "        numbers.sort()\n",
    "        numbers_list.append(numbers)\n",
    "    \n",
    "    return numbers_list"
   ]
  },
  {
   "cell_type": "code",
   "execution_count": 10,
   "metadata": {},
   "outputs": [
    {
     "name": "stdout",
     "output_type": "stream",
     "text": [
      "SELECTED NUMBERS :  [20, 33, 36, 38, 39, 44, 45]\n",
      "SELECTED NUMBERS :  [6, 17, 18, 20, 27, 37, 44]\n",
      "SELECTED NUMBERS :  [1, 18, 28, 31, 33, 42, 44]\n",
      "SELECTED NUMBERS :  [2, 4, 13, 24, 29, 39, 43]\n",
      "SELECTED NUMBERS :  [1, 9, 14, 15, 26, 32, 33]\n",
      "SELECTED NUMBERS :  [10, 11, 23, 35, 36, 40, 45]\n"
     ]
    }
   ],
   "source": [
    "selected_numbers_list = generate_basic_numbers(game_count=6)\n",
    "\n",
    "for v in selected_numbers_list:\n",
    "    print('SELECTED NUMBERS : ', v)"
   ]
  },
  {
   "cell_type": "code",
   "execution_count": 11,
   "metadata": {},
   "outputs": [],
   "source": [
    "class Lotto:\n",
    "    \"\"\"\n",
    "    로또 번호 추출 클래스\n",
    "    \"\"\"\n",
    "\n",
    "    def __init__(self):\n",
    "        pass\n",
    "\n",
    "    def generate_basic_numbers(self):\n",
    "        numbers = []\n",
    "\n",
    "        while len(numbers) < 7:\n",
    "            current_number = int(random.random() * 45 + 1)\n",
    "\n",
    "            for v in numbers:\n",
    "                if current_number == v:\n",
    "                    break\n",
    "            else:\n",
    "                numbers.append(current_number)\n",
    "        \n",
    "        numbers.sort()\n",
    "\n",
    "        return numbers\n",
    "    \n",
    "    def check_mean(self, numbers):\n",
    "        return True\n",
    "\n",
    "    def select_golden_numbers(self, game_count=1):\n",
    "        golden_numbers = []\n",
    "\n",
    "        while True:\n",
    "            numbers = self.generate_basic_numbers()\n",
    "\n",
    "            if self.check_mean(numbers):\n",
    "                golden_numbers.append(numbers)\n",
    "                break\n",
    "\n",
    "        return golden_numbers"
   ]
  },
  {
   "cell_type": "code",
   "execution_count": 13,
   "metadata": {},
   "outputs": [
    {
     "name": "stdout",
     "output_type": "stream",
     "text": [
      "Lotto golden_number :  [[14, 16, 22, 30, 31, 32, 42]]\n"
     ]
    }
   ],
   "source": [
    "lotto = Lotto()\n",
    "golden_numbers = lotto.select_golden_numbers()\n",
    "print('Lotto golden_number : ', golden_numbers)"
   ]
  },
  {
   "cell_type": "code",
   "execution_count": 14,
   "metadata": {},
   "outputs": [
    {
     "name": "stdout",
     "output_type": "stream",
     "text": [
      "40910\n",
      "[['1907-10-01', '108', '13.5', '7.9', '20.7'], ['1907-10-02', '108', '16.2', '7.9', '22'], ['1907-10-03', '108', '16.2', '13.1', '21.3'], ['1907-10-04', '108', '16.5', '11.2', '22'], ['1907-10-05', '108', '17.6', '10.9', '25.4']]\n"
     ]
    }
   ],
   "source": [
    "data = []\n",
    "with open('data-files/seoul-temperature.csv', 'rt', encoding=\"utf-8\") as f:\n",
    "    f.readline()\n",
    "\n",
    "    while True:\n",
    "        line = f.readline()\n",
    "\n",
    "        if not line:\n",
    "            break\n",
    "        else:\n",
    "            line = line.rstrip(\"\\n\")\n",
    "            data.append(line.split(\",\"))\n",
    "\n",
    "print(len(data))\n",
    "print(data[:5])"
   ]
  },
  {
   "cell_type": "code",
   "execution_count": 16,
   "metadata": {},
   "outputs": [],
   "source": [
    "# 1. 데이터를 다음과 같은 형식으로 읽어서 변수에 저장\n",
    "# [\n",
    "#     [\"날짜\", \"지점\", 평균(float), 최저(float), 최고(float)],\n",
    "#     [\"날짜\", \"지점\", 평균(float), 최저(float), 최고(float)]\n",
    "# ]\n",
    "\n",
    "def to_float(v):\n",
    "    try:\n",
    "        fv = float(v)\n",
    "    except:\n",
    "        fv = -12345\n",
    "    return fv\n",
    "\n",
    "data2 = list(filter(lambda row: len(row) == 5, data))\n",
    "\n",
    "data3 = list(map(lambda row: row[:2] + list(map(lambda v: to_float(v), row[2:])), data2))"
   ]
  },
  {
   "cell_type": "code",
   "execution_count": 17,
   "metadata": {},
   "outputs": [
    {
     "data": {
      "text/plain": [
       "(40909,\n",
       " [['1907-10-01', '108', 13.5, 7.9, 20.7],\n",
       "  ['1907-10-02', '108', 16.2, 7.9, 22.0],\n",
       "  ['1907-10-03', '108', 16.2, 13.1, 21.3],\n",
       "  ['1907-10-04', '108', 16.5, 11.2, 22.0],\n",
       "  ['1907-10-05', '108', 17.6, 10.9, 25.4]])"
      ]
     },
     "execution_count": 17,
     "metadata": {},
     "output_type": "execute_result"
    }
   ],
   "source": [
    "len(data3), data3[:5]"
   ]
  },
  {
   "cell_type": "code",
   "execution_count": 18,
   "metadata": {},
   "outputs": [],
   "source": [
    "# 가장 더웠던 날의 데이터 출력\n",
    "max_temp = -12345\n",
    "data = None\n",
    " \n",
    "for row in data3:\n",
    "    if row[-1] > max_temp:\n",
    "        max_temp = row[-1]\n",
    "        data = row"
   ]
  },
  {
   "cell_type": "code",
   "execution_count": 19,
   "metadata": {},
   "outputs": [
    {
     "data": {
      "text/plain": [
       "['2018-08-01', '108', 33.6, 27.8, 39.6]"
      ]
     },
     "execution_count": 19,
     "metadata": {},
     "output_type": "execute_result"
    }
   ],
   "source": [
    "data"
   ]
  },
  {
   "cell_type": "code",
   "execution_count": 20,
   "metadata": {},
   "outputs": [],
   "source": [
    "# 출생 연도 이후 생일 중에서 가장 더웠던 날\n",
    "year = 1980\n",
    "dt = '03-03'\n",
    "max_temp = -12345\n",
    "data = None\n",
    "\n",
    "for row in data3:\n",
    "    y = row[0][:4]\n",
    "    d = row[0][5:]\n",
    "\n",
    "    if int(y) > year and dt == d:\n",
    "        if row[-1] > max_temp:\n",
    "            max_temp = row[-1]\n",
    "            data = row"
   ]
  },
  {
   "cell_type": "code",
   "execution_count": 21,
   "metadata": {},
   "outputs": [
    {
     "data": {
      "text/plain": [
       "['2000-03-03', '108', 8.8, 1.2, 17.2]"
      ]
     },
     "execution_count": 21,
     "metadata": {},
     "output_type": "execute_result"
    }
   ],
   "source": [
    "data"
   ]
  },
  {
   "cell_type": "code",
   "execution_count": 22,
   "metadata": {},
   "outputs": [],
   "source": [
    "# 데이터 재구성 (월별로 데이터 정리) 1\n",
    "# {\n",
    "#     '01': [[....],[....]],\n",
    "#     '02': [[....],[....]],\n",
    "#     ...\n",
    "#     '12': [[....],[....]]\n",
    "# }\n",
    "\n",
    "data_by_month = {}\n",
    "\n",
    "for row in data3:\n",
    "    month = row[0][5:7]\n",
    "\n",
    "    if month in data_by_month:\n",
    "        data_by_month[month].append(row)\n",
    "    else:\n",
    "        data_by_month[month] = [row]"
   ]
  },
  {
   "cell_type": "code",
   "execution_count": 23,
   "metadata": {},
   "outputs": [
    {
     "data": {
      "text/plain": [
       "[['1908-03-01', '108', 0.7, -4.8, 4.0],\n",
       " ['1908-03-02', '108', -3.8, -7.4, 0.1],\n",
       " ['1908-03-03', '108', 1.9, -2.7, 4.9],\n",
       " ['1908-03-04', '108', 2.0, 0.8, 4.0],\n",
       " ['1908-03-05', '108', 3.0, -0.2, 7.9]]"
      ]
     },
     "execution_count": 23,
     "metadata": {},
     "output_type": "execute_result"
    }
   ],
   "source": [
    "data_by_month['03'][:5]"
   ]
  },
  {
   "cell_type": "code",
   "execution_count": 24,
   "metadata": {},
   "outputs": [],
   "source": [
    "# 데이터 재구성 (월별로 데이터 정리) 2\n",
    "# {\n",
    "#     '01': [[....],[....]],\n",
    "#     '02': [[....],[....]],\n",
    "#     ...\n",
    "#     '12': [[....],[....]]\n",
    "# }\n",
    "\n",
    "from collections import defaultdict\n",
    "\n",
    "data_by_month = defaultdict(list) # 초기 값 자동 구성\n",
    "\n",
    "for row in data3:\n",
    "    month = row[0][5:7]\n",
    "    data_by_month[month].append(row)"
   ]
  },
  {
   "cell_type": "code",
   "execution_count": 26,
   "metadata": {},
   "outputs": [
    {
     "data": {
      "text/plain": [
       "[['2020-12-01', '108', 1.1, -3.6, 6.7],\n",
       " ['2020-12-02', '108', 2.4, 0.5, 6.1],\n",
       " ['2020-12-03', '108', 0.7, -2.3, 4.2],\n",
       " ['2020-12-04', '108', -0.6, -4.6, 4.4],\n",
       " ['2020-12-05', '108', 2.1, -2.2, 6.6]]"
      ]
     },
     "execution_count": 26,
     "metadata": {},
     "output_type": "execute_result"
    }
   ],
   "source": [
    "data_by_month['12'][-5:]"
   ]
  },
  {
   "cell_type": "code",
   "execution_count": 27,
   "metadata": {},
   "outputs": [],
   "source": [
    "# 12월의 평균 기온 계산 -> 월을 전달인자로 평균 기온 계산하는 함수 작성\n",
    "\n",
    "def mean_temperature_by_month(month, t='mean'): # t : mean, min, max\n",
    "    month_data = data_by_month[month]\n",
    "    idx = 2 if t == 'mean' else 3 if t == 'min' else 4\n",
    "    total, cnt = 0, 0\n",
    "\n",
    "    for row in month_data:\n",
    "        if row[idx] > -12345:\n",
    "            total += row[idx]\n",
    "            cnt += 1\n",
    "\n",
    "    mean_value = total / cnt\n",
    "    \n",
    "    return mean_value"
   ]
  },
  {
   "cell_type": "code",
   "execution_count": 28,
   "metadata": {},
   "outputs": [
    {
     "data": {
      "text/plain": [
       "-7.690234604105556"
      ]
     },
     "execution_count": 28,
     "metadata": {},
     "output_type": "execute_result"
    }
   ],
   "source": [
    "mean_temperature_by_month('01', 'min')"
   ]
  }
 ],
 "metadata": {
  "kernelspec": {
   "display_name": "python-class",
   "language": "python",
   "name": "python3"
  },
  "language_info": {
   "codemirror_mode": {
    "name": "ipython",
    "version": 3
   },
   "file_extension": ".py",
   "mimetype": "text/x-python",
   "name": "python",
   "nbconvert_exporter": "python",
   "pygments_lexer": "ipython3",
   "version": "3.8.15"
  },
  "orig_nbformat": 4,
  "vscode": {
   "interpreter": {
    "hash": "4cf43b6a9168ded622802e2133bb28333a4c63424171b7f69deb99cfed6da6d7"
   }
  }
 },
 "nbformat": 4,
 "nbformat_minor": 2
}
