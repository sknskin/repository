{
 "cells": [
  {
   "cell_type": "code",
   "execution_count": 1,
   "metadata": {},
   "outputs": [],
   "source": [
    "from PIL import Image\n",
    "\n",
    "import pytesseract"
   ]
  },
  {
   "cell_type": "code",
   "execution_count": 2,
   "metadata": {},
   "outputs": [],
   "source": [
    "# pytesseract.pytesseract.tesseract_cmd = 'C:\\\\Program Files\\\\Tesseract-OCR\\\\tesseract.exe'\n",
    "pytesseract.pytesseract.tesseract_cmd = r'C:\\Program Files\\Tesseract-OCR\\tesseract.exe'\n",
    "\n",
    "# /usr/local/Cellar/tesseract/5.3.0/bin/tesseract"
   ]
  },
  {
   "cell_type": "code",
   "execution_count": 6,
   "metadata": {},
   "outputs": [
    {
     "name": "stdout",
     "output_type": "stream",
     "text": [
      "This is test message\n",
      "\n",
      "This is a lot of 12 point text to test the\n",
      "ocr code and see if it works on all types\n",
      "of file format.\n",
      "\n",
      "The quick brown dog jumped over the\n",
      "lazy fox. The quick brown dog jumped\n",
      "over the lazy fox. The quick brown dog\n",
      "jumped over the lazy fox. The quick\n",
      "brown dog jumped over the lazy fox.\n",
      "\n",
      "The (quick) [brown] {fox} jumps!\n",
      "Over the $43,456.78 <lazy> #90 dog\n",
      "& duck/goose, as 12.5% of E-mail\n",
      "from aspammer@website.com is spam.\n",
      "Der ,.schnelle” braune Fuchs springt\n",
      "iiber den faulen Hund. Le renard brun\n",
      "«rapide» saute par-dessus le chien\n",
      "paresseux. La volpe marrone rapida\n",
      "salta sopra il cane pigro. El zorro\n",
      "marron rapido salta sobre el perro\n",
      "perezoso. A raposa marrom rapida\n",
      "salta sobre o céo preguicoso.\n",
      "\n"
     ]
    }
   ],
   "source": [
    "image = Image.open(r\"data\\test_la.png\")\n",
    "type(image)\n",
    "\n",
    "message = pytesseract.image_to_string(image)\n",
    "print(message)\n",
    "\n",
    "print( pytesseract.image_to_string(Image.open(r'data/test.gif')) )\n",
    "print( pytesseract.image_to_string(Image.open(r'data/test-european.jpg')) )"
   ]
  },
  {
   "cell_type": "code",
   "execution_count": 9,
   "metadata": {},
   "outputs": [
    {
     "name": "stdout",
     "output_type": "stream",
     "text": [
      "Spor aif amy\n",
      "BEE\n",
      "\n",
      "10H 13 일 ( 월 ) (10.13.:8.14-00 이 후 Sts)\n",
      "\n",
      "배 포 일 | tom 19 일 / ( 총 4 패 ) | 담 당 부 서 트 〉 즈\n",
      "\n",
      "과 장 aoae 044-202-2820\n",
      "천 화\n",
      "\n",
      "eat aaa (044-202-2836\n",
      "\n",
      "담 배 규제 위해 1799101 머 리 를 맞 댄 다 .\n",
      "\n",
      "- WHO 담 배 규 페 기 본 엽 약 제 6 자 당 사 국 종 회 , 러 시아 모 스 크 바 에 서 13 일 개 막 -\n",
      "\n",
      "디 담 배 규 제에 gel 국 제 헌 법 적 성 격 을 갖 는 세 계 보 건 기 구 0080)\n",
      "담 배 규 제 기 본 협 약 .(7) 제 6 차 당 사 국 총 회 가 10 월 13 일 ( 월 )~18 일\n",
      "(=)zt 러 시아 모 스 크바 월 드 트 레 이 드 센 터 에 서 진 행 된 다 .\n",
      "\n",
      ", FCTC\\Framework 000080100 on 1069000 Control) 담 배 가 인 류 에 미 치 는 해 악\n",
      "에 국 제 사 회 가 BESS ASI] 위 하 여 2003 년 세 계 보 건 총 희 (\\ 버 싸\n",
      "에 서 체 택 된 보 건 분 야 최 초 의 Sal et ( 무 리 나 라 는 2005 년 에 비 준 )\n",
      "\n",
      "ㅇ 본 SHE US Wise 담 배 규제 정 책 의 이 행 수 준 을 정 검 하 고\n",
      "국 제 적 공 조 방 안 을 논 의 하 는 자 리 로 , 179 개 협 약 당 사 국 의 정 부\n",
      "대 표 단 을 비 롯 하 여 , 담 배 규제 전 문 국 제 기 구 및 시 민 단 체 대 표\n",
      "등 약 10006] Yo] 참 석할 예 정 이 다 .\n",
      "\n",
      "* 최 근 러 시 아 와 분 쟁 중 민 우 크 라 미 나 및 북 한 도 대 표 단 파 견\n",
      "\n",
      "ㅇ 특 히 이 번 총 회 는 차 의 과 대 학 교 문 창 진 교 수 가 의 장 으 로 IS\n",
      "\n",
      "주 재 함 으 로 쩌 , 우 리 나 라 가 의 장 국 역 할 을 SAD 예 정 이 다 .\n",
      "\n",
      "디 이 번 Saas > 담 배 가 격 의 Asa 인 상 필 요 성 》 신 종\n",
      "담 배 에 대 한 규제 강 화 》 담 배 회 사 에 대 한 규 제 방 안 등 담 배\n",
      "규 제 와 관 련된 여 러 가 지 BE 관 심 사 가 논 의 될 예 정 이 다 .\n",
      "\n",
      "ㅇ 우선 가 장 중 요 한 의 제 로 흡 연 을 감 소 를 위 한 담 배 가 격 및 조 세\n",
      "\n",
      "배 !배랭:!햅겨폭_12쿰\n",
      "\n",
      "RRO ROS HOR\n",
      "\n",
      "\n"
     ]
    }
   ],
   "source": [
    "# print( pytesseract.image_to_string(Image.open(r'data/no-smoking.jpg')) )\n",
    "print( pytesseract.image_to_string(Image.open(r'data/no-smoking.jpg'), lang=\"eng+kor\") )"
   ]
  },
  {
   "cell_type": "code",
   "execution_count": null,
   "metadata": {},
   "outputs": [],
   "source": []
  }
 ],
 "metadata": {
  "kernelspec": {
   "display_name": "kdigital-ocr-env",
   "language": "python",
   "name": "python3"
  },
  "language_info": {
   "codemirror_mode": {
    "name": "ipython",
    "version": 3
   },
   "file_extension": ".py",
   "mimetype": "text/x-python",
   "name": "python",
   "nbconvert_exporter": "python",
   "pygments_lexer": "ipython3",
   "version": "3.8.15 (default, Nov 24 2022, 14:38:14) [MSC v.1916 64 bit (AMD64)]"
  },
  "orig_nbformat": 4,
  "vscode": {
   "interpreter": {
    "hash": "ea0dc718a059573099e441c9475ee264e7f48073538e95f58a36540246fb1492"
   }
  }
 },
 "nbformat": 4,
 "nbformat_minor": 2
}
