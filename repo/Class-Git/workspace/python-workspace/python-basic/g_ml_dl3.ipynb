{
 "cells": [
  {
   "cell_type": "code",
   "execution_count": 1,
   "metadata": {},
   "outputs": [],
   "source": [
    "import numpy as np\n",
    "import pandas as pd\n",
    "import matplotlib.pyplot as plt\n",
    "\n",
    "from tensorflow import keras"
   ]
  },
  {
   "cell_type": "code",
   "execution_count": 2,
   "metadata": {},
   "outputs": [],
   "source": [
    "(X_train_mnist, y_train_mnist), (X_test_mnist, y_test_mnist) = keras.datasets.mnist.load_data()"
   ]
  },
  {
   "cell_type": "code",
   "execution_count": 4,
   "metadata": {},
   "outputs": [],
   "source": [
    "X_train_mnist = X_train_mnist.reshape(-1, 28, 28, 1)\n",
    "X_test_mnist = X_test_mnist.reshape(-1, 28, 28, 1)"
   ]
  },
  {
   "cell_type": "code",
   "execution_count": 62,
   "metadata": {},
   "outputs": [
    {
     "data": {
      "text/plain": [
       "((60000, 28, 28, 1), (10000, 28, 28, 1))"
      ]
     },
     "execution_count": 62,
     "metadata": {},
     "output_type": "execute_result"
    }
   ],
   "source": [
    "X_train_mnist.shape, X_test_mnist.shape"
   ]
  },
  {
   "cell_type": "code",
   "execution_count": 63,
   "metadata": {},
   "outputs": [
    {
     "data": {
      "text/plain": [
       "(0, 255)"
      ]
     },
     "execution_count": 63,
     "metadata": {},
     "output_type": "execute_result"
    }
   ],
   "source": [
    "X_test_mnist.min(), X_test_mnist.max()"
   ]
  },
  {
   "cell_type": "code",
   "execution_count": 5,
   "metadata": {},
   "outputs": [],
   "source": [
    "X_train_mnist = X_train_mnist / X_train_mnist.max()\n",
    "X_test_mnist = X_test_mnist / X_test_mnist.max()"
   ]
  },
  {
   "cell_type": "code",
   "execution_count": 6,
   "metadata": {},
   "outputs": [
    {
     "data": {
      "text/plain": [
       "(numpy.ndarray, (10000, 28, 28, 1))"
      ]
     },
     "execution_count": 6,
     "metadata": {},
     "output_type": "execute_result"
    }
   ],
   "source": [
    "type(X_test_mnist), X_test_mnist.shape"
   ]
  },
  {
   "cell_type": "code",
   "execution_count": 65,
   "metadata": {},
   "outputs": [
    {
     "data": {
      "text/plain": [
       "1.0"
      ]
     },
     "execution_count": 65,
     "metadata": {},
     "output_type": "execute_result"
    }
   ],
   "source": [
    "X_train_mnist.max()"
   ]
  },
  {
   "cell_type": "code",
   "execution_count": 66,
   "metadata": {},
   "outputs": [],
   "source": [
    "mnist_model = keras.models.Sequential()\n",
    "mnist_model.add(keras.layers.Input(shape=(28, 28, 1)))\n",
    "\n",
    "mnist_model.add(keras.layers.Conv2D(filters=32, kernel_size=3, padding=\"same\", activation=\"relu\"))\n",
    "mnist_model.add(keras.layers.MaxPooling2D(pool_size=2))\n",
    "\n",
    "mnist_model.add(keras.layers.Conv2D(filters=64, kernel_size=3, padding=\"same\", activation=\"relu\"))\n",
    "mnist_model.add(keras.layers.MaxPooling2D(pool_size=2))\n",
    "\n",
    "# mnist_model.add(keras.layers.Conv2D(filters=128, kernel_size=3, activation=\"relu\"))\n",
    "# mnist_model.add(keras.layers.MaxPooling2D(pool_size=2))\n",
    "\n",
    "mnist_model.add(keras.layers.Flatten())\n",
    "\n",
    "mnist_model.add(keras.layers.Dense(10, activation=\"softmax\"))"
   ]
  },
  {
   "cell_type": "code",
   "execution_count": 67,
   "metadata": {},
   "outputs": [
    {
     "name": "stdout",
     "output_type": "stream",
     "text": [
      "Model: \"sequential_7\"\n",
      "_________________________________________________________________\n",
      " Layer (type)                Output Shape              Param #   \n",
      "=================================================================\n",
      " conv2d_15 (Conv2D)          (None, 28, 28, 32)        320       \n",
      "                                                                 \n",
      " max_pooling2d_15 (MaxPoolin  (None, 14, 14, 32)       0         \n",
      " g2D)                                                            \n",
      "                                                                 \n",
      " conv2d_16 (Conv2D)          (None, 14, 14, 64)        18496     \n",
      "                                                                 \n",
      " max_pooling2d_16 (MaxPoolin  (None, 7, 7, 64)         0         \n",
      " g2D)                                                            \n",
      "                                                                 \n",
      " flatten_7 (Flatten)         (None, 3136)              0         \n",
      "                                                                 \n",
      " dense_7 (Dense)             (None, 10)                31370     \n",
      "                                                                 \n",
      "=================================================================\n",
      "Total params: 50,186\n",
      "Trainable params: 50,186\n",
      "Non-trainable params: 0\n",
      "_________________________________________________________________\n"
     ]
    }
   ],
   "source": [
    "mnist_model.summary()"
   ]
  },
  {
   "cell_type": "code",
   "execution_count": 68,
   "metadata": {},
   "outputs": [],
   "source": [
    "# adam = keras.optimizers.Adam(( learning_rate=0.001))\n",
    "mnist_model.compile(loss=\"sparse_categorical_crossentropy\", optimizer=\"adam\", metrics=[\"accuracy\"])"
   ]
  },
  {
   "cell_type": "code",
   "execution_count": 69,
   "metadata": {},
   "outputs": [
    {
     "data": {
      "text/plain": [
       "(0.0, 1.0)"
      ]
     },
     "execution_count": 69,
     "metadata": {},
     "output_type": "execute_result"
    }
   ],
   "source": [
    "X_train_mnist.min(), X_train_mnist.max()"
   ]
  },
  {
   "cell_type": "code",
   "execution_count": 70,
   "metadata": {},
   "outputs": [
    {
     "name": "stdout",
     "output_type": "stream",
     "text": [
      "Epoch 1/5\n",
      "469/469 [==============================] - 19s 39ms/step - loss: 0.2544 - accuracy: 0.9278\n",
      "Epoch 2/5\n",
      "469/469 [==============================] - 18s 38ms/step - loss: 0.0651 - accuracy: 0.9806\n",
      "Epoch 3/5\n",
      "469/469 [==============================] - 17s 37ms/step - loss: 0.0472 - accuracy: 0.9855\n",
      "Epoch 4/5\n",
      "469/469 [==============================] - 17s 36ms/step - loss: 0.0388 - accuracy: 0.9886\n",
      "Epoch 5/5\n",
      "469/469 [==============================] - 16s 34ms/step - loss: 0.0323 - accuracy: 0.9900\n"
     ]
    },
    {
     "data": {
      "text/plain": [
       "<keras.callbacks.History at 0x2ad65f84310>"
      ]
     },
     "execution_count": 70,
     "metadata": {},
     "output_type": "execute_result"
    }
   ],
   "source": [
    "mnist_model.fit(X_train_mnist, y_train_mnist, epochs=5, batch_size=128)"
   ]
  },
  {
   "cell_type": "code",
   "execution_count": 71,
   "metadata": {},
   "outputs": [
    {
     "name": "stdout",
     "output_type": "stream",
     "text": [
      "313/313 [==============================] - 1s 3ms/step - loss: 0.0342 - accuracy: 0.9880\n"
     ]
    },
    {
     "data": {
      "text/plain": [
       "[0.03418730944395065, 0.9879999756813049]"
      ]
     },
     "execution_count": 71,
     "metadata": {},
     "output_type": "execute_result"
    }
   ],
   "source": [
    "mnist_model.evaluate(X_test_mnist, y_test_mnist)"
   ]
  },
  {
   "cell_type": "code",
   "execution_count": 72,
   "metadata": {},
   "outputs": [],
   "source": [
    "mnist_model.save(filepath=\"models/mnist_model.h5\")"
   ]
  },
  {
   "cell_type": "code",
   "execution_count": 7,
   "metadata": {},
   "outputs": [],
   "source": [
    "mnist_model2 = keras.models.load_model(filepath=\"models/mnist_model.h5\")"
   ]
  },
  {
   "cell_type": "code",
   "execution_count": null,
   "metadata": {},
   "outputs": [],
   "source": [
    "mnist_model2.predict()"
   ]
  },
  {
   "cell_type": "code",
   "execution_count": 74,
   "metadata": {},
   "outputs": [
    {
     "name": "stdout",
     "output_type": "stream",
     "text": [
      "313/313 [==============================] - 1s 3ms/step - loss: 0.0342 - accuracy: 0.9880\n"
     ]
    },
    {
     "data": {
      "text/plain": [
       "[0.03418730944395065, 0.9879999756813049]"
      ]
     },
     "execution_count": 74,
     "metadata": {},
     "output_type": "execute_result"
    }
   ],
   "source": [
    "mnist_model2.evaluate(X_test_mnist, y_test_mnist)"
   ]
  },
  {
   "cell_type": "code",
   "execution_count": 33,
   "metadata": {},
   "outputs": [],
   "source": [
    "# fashion mnist CNN 모델 개발"
   ]
  },
  {
   "cell_type": "code",
   "execution_count": 34,
   "metadata": {},
   "outputs": [],
   "source": [
    "(X_train_fm, y_train_fm), (X_test_fm, y_test_fm) = keras.datasets.fashion_mnist.load_data()"
   ]
  },
  {
   "cell_type": "code",
   "execution_count": 35,
   "metadata": {},
   "outputs": [],
   "source": [
    "X_train_fm = X_train_fm.reshape(-1, 28, 28, 1)\n",
    "X_test_fm = X_test_fm.reshape(-1, 28, 28, 1)\n",
    "X_train_fm = X_train_fm / X_train_fm.max()\n",
    "X_test_fm = X_test_fm / X_test_fm.max()"
   ]
  },
  {
   "cell_type": "code",
   "execution_count": 53,
   "metadata": {},
   "outputs": [],
   "source": [
    "model_fm = keras.models.Sequential()\n",
    "\n",
    "model_fm.add(keras.layers.Input(shape=(28, 28, 1)))\n",
    "\n",
    "model_fm.add(keras.layers.Conv2D(filters=32, kernel_size=3, padding=\"same\", activation=\"relu\"))\n",
    "model_fm.add(keras.layers.MaxPooling2D(pool_size=2))\n",
    "\n",
    "model_fm.add(keras.layers.Conv2D(filters=64, kernel_size=3, padding=\"same\", activation=\"relu\"))\n",
    "model_fm.add(keras.layers.MaxPooling2D(pool_size=2))\n",
    "\n",
    "model_fm.add(keras.layers.Flatten())\n",
    "model_fm.add(keras.layers.Dense(10, activation=\"softmax\"))"
   ]
  },
  {
   "cell_type": "code",
   "execution_count": 47,
   "metadata": {},
   "outputs": [
    {
     "name": "stdout",
     "output_type": "stream",
     "text": [
      "Model: \"sequential_5\"\n",
      "_________________________________________________________________\n",
      " Layer (type)                Output Shape              Param #   \n",
      "=================================================================\n",
      " conv2d_11 (Conv2D)          (None, 28, 28, 32)        320       \n",
      "                                                                 \n",
      " max_pooling2d_11 (MaxPoolin  (None, 14, 14, 32)       0         \n",
      " g2D)                                                            \n",
      "                                                                 \n",
      " conv2d_12 (Conv2D)          (None, 14, 14, 64)        18496     \n",
      "                                                                 \n",
      " max_pooling2d_12 (MaxPoolin  (None, 7, 7, 64)         0         \n",
      " g2D)                                                            \n",
      "                                                                 \n",
      " flatten_5 (Flatten)         (None, 3136)              0         \n",
      "                                                                 \n",
      " dense_5 (Dense)             (None, 10)                31370     \n",
      "                                                                 \n",
      "=================================================================\n",
      "Total params: 50,186\n",
      "Trainable params: 50,186\n",
      "Non-trainable params: 0\n",
      "_________________________________________________________________\n"
     ]
    }
   ],
   "source": [
    "model_fm.summary()"
   ]
  },
  {
   "cell_type": "code",
   "execution_count": 38,
   "metadata": {},
   "outputs": [
    {
     "data": {
      "text/plain": [
       "(60000,)"
      ]
     },
     "execution_count": 38,
     "metadata": {},
     "output_type": "execute_result"
    }
   ],
   "source": [
    "y_train_fm.shape"
   ]
  },
  {
   "cell_type": "code",
   "execution_count": 54,
   "metadata": {},
   "outputs": [],
   "source": [
    "adam = keras.optimizers.Adam(learning_rate=0.001)\n",
    "model_fm.compile(loss=\"sparse_categorical_crossentropy\", optimizer=adam, metrics=[\"accuracy\"])"
   ]
  },
  {
   "cell_type": "code",
   "execution_count": 55,
   "metadata": {},
   "outputs": [
    {
     "name": "stdout",
     "output_type": "stream",
     "text": [
      "Epoch 1/30\n",
      "375/375 [==============================] - 16s 42ms/step - loss: 0.5700 - accuracy: 0.7991 - val_loss: 0.4150 - val_accuracy: 0.8515\n",
      "Epoch 2/30\n",
      "375/375 [==============================] - 15s 40ms/step - loss: 0.3640 - accuracy: 0.8714 - val_loss: 0.3377 - val_accuracy: 0.8799\n",
      "Epoch 3/30\n",
      "375/375 [==============================] - 15s 40ms/step - loss: 0.3183 - accuracy: 0.8874 - val_loss: 0.3064 - val_accuracy: 0.8905\n",
      "Epoch 4/30\n",
      "375/375 [==============================] - 15s 39ms/step - loss: 0.2920 - accuracy: 0.8961 - val_loss: 0.3070 - val_accuracy: 0.8930\n",
      "Epoch 5/30\n",
      "375/375 [==============================] - 14s 37ms/step - loss: 0.2689 - accuracy: 0.9045 - val_loss: 0.2812 - val_accuracy: 0.8996\n",
      "Epoch 6/30\n",
      "375/375 [==============================] - 14s 36ms/step - loss: 0.2531 - accuracy: 0.9098 - val_loss: 0.2727 - val_accuracy: 0.9021\n",
      "Epoch 7/30\n",
      "375/375 [==============================] - 14s 37ms/step - loss: 0.2408 - accuracy: 0.9145 - val_loss: 0.2582 - val_accuracy: 0.9070\n",
      "Epoch 8/30\n",
      "375/375 [==============================] - 14s 38ms/step - loss: 0.2266 - accuracy: 0.9187 - val_loss: 0.2600 - val_accuracy: 0.9070\n",
      "Epoch 9/30\n",
      "375/375 [==============================] - 14s 37ms/step - loss: 0.2142 - accuracy: 0.9232 - val_loss: 0.2467 - val_accuracy: 0.9118\n",
      "Epoch 10/30\n",
      "375/375 [==============================] - 14s 37ms/step - loss: 0.2042 - accuracy: 0.9265 - val_loss: 0.2448 - val_accuracy: 0.9121\n",
      "Epoch 11/30\n",
      "375/375 [==============================] - 14s 37ms/step - loss: 0.1976 - accuracy: 0.9290 - val_loss: 0.2506 - val_accuracy: 0.9118\n",
      "Epoch 12/30\n",
      "375/375 [==============================] - 14s 37ms/step - loss: 0.1860 - accuracy: 0.9339 - val_loss: 0.2402 - val_accuracy: 0.9126\n",
      "Epoch 13/30\n",
      "375/375 [==============================] - 14s 37ms/step - loss: 0.1800 - accuracy: 0.9358 - val_loss: 0.2410 - val_accuracy: 0.9124\n",
      "Epoch 14/30\n",
      "375/375 [==============================] - 14s 37ms/step - loss: 0.1685 - accuracy: 0.9393 - val_loss: 0.2429 - val_accuracy: 0.9146\n",
      "Epoch 15/30\n",
      "375/375 [==============================] - 14s 36ms/step - loss: 0.1628 - accuracy: 0.9419 - val_loss: 0.2461 - val_accuracy: 0.9110\n",
      "Epoch 16/30\n",
      "375/375 [==============================] - 14s 36ms/step - loss: 0.1538 - accuracy: 0.9440 - val_loss: 0.2494 - val_accuracy: 0.9133\n",
      "Epoch 17/30\n",
      "375/375 [==============================] - 14s 36ms/step - loss: 0.1499 - accuracy: 0.9459 - val_loss: 0.2523 - val_accuracy: 0.9148\n",
      "Epoch 18/30\n",
      "375/375 [==============================] - 14s 36ms/step - loss: 0.1403 - accuracy: 0.9502 - val_loss: 0.2434 - val_accuracy: 0.9169\n",
      "Epoch 19/30\n",
      "375/375 [==============================] - 14s 36ms/step - loss: 0.1330 - accuracy: 0.9519 - val_loss: 0.2390 - val_accuracy: 0.9178\n",
      "Epoch 20/30\n",
      "375/375 [==============================] - 14s 37ms/step - loss: 0.1286 - accuracy: 0.9543 - val_loss: 0.2493 - val_accuracy: 0.9148\n",
      "Epoch 21/30\n",
      "375/375 [==============================] - 14s 38ms/step - loss: 0.1213 - accuracy: 0.9574 - val_loss: 0.2471 - val_accuracy: 0.9171\n",
      "Epoch 22/30\n",
      "375/375 [==============================] - 14s 37ms/step - loss: 0.1175 - accuracy: 0.9579 - val_loss: 0.2509 - val_accuracy: 0.9176\n",
      "Epoch 23/30\n",
      "375/375 [==============================] - 14s 38ms/step - loss: 0.1107 - accuracy: 0.9606 - val_loss: 0.2701 - val_accuracy: 0.9149\n",
      "Epoch 24/30\n",
      "375/375 [==============================] - 14s 38ms/step - loss: 0.1061 - accuracy: 0.9623 - val_loss: 0.2583 - val_accuracy: 0.9168\n",
      "Epoch 25/30\n",
      "375/375 [==============================] - 14s 38ms/step - loss: 0.1004 - accuracy: 0.9649 - val_loss: 0.2570 - val_accuracy: 0.9149\n",
      "Epoch 26/30\n",
      "375/375 [==============================] - 14s 37ms/step - loss: 0.0965 - accuracy: 0.9666 - val_loss: 0.2614 - val_accuracy: 0.9156\n",
      "Epoch 27/30\n",
      "375/375 [==============================] - 14s 38ms/step - loss: 0.0924 - accuracy: 0.9683 - val_loss: 0.2773 - val_accuracy: 0.9123\n",
      "Epoch 28/30\n",
      "375/375 [==============================] - 14s 38ms/step - loss: 0.0858 - accuracy: 0.9704 - val_loss: 0.2639 - val_accuracy: 0.9185\n",
      "Epoch 29/30\n",
      "375/375 [==============================] - 14s 38ms/step - loss: 0.0841 - accuracy: 0.9710 - val_loss: 0.2984 - val_accuracy: 0.9112\n",
      "Epoch 30/30\n",
      "375/375 [==============================] - 14s 38ms/step - loss: 0.0847 - accuracy: 0.9704 - val_loss: 0.2867 - val_accuracy: 0.9145\n"
     ]
    }
   ],
   "source": [
    "history = model_fm.fit(X_train_fm, y_train_fm, epochs=30, validation_split=0.2, batch_size=128)"
   ]
  },
  {
   "cell_type": "code",
   "execution_count": 44,
   "metadata": {},
   "outputs": [
    {
     "data": {
      "text/plain": [
       "{'loss': [0.1913829743862152,\n",
       "  0.16918011009693146,\n",
       "  0.16008852422237396,\n",
       "  0.16045504808425903,\n",
       "  0.15725183486938477,\n",
       "  0.14744916558265686,\n",
       "  0.14923325181007385,\n",
       "  0.14019833505153656,\n",
       "  0.139552041888237,\n",
       "  0.13506315648555756],\n",
       " 'accuracy': [0.9301249980926514,\n",
       "  0.9381458163261414,\n",
       "  0.9411458373069763,\n",
       "  0.9417499899864197,\n",
       "  0.9436666369438171,\n",
       "  0.9462500214576721,\n",
       "  0.9454166889190674,\n",
       "  0.948562502861023,\n",
       "  0.9496458172798157,\n",
       "  0.950166642665863],\n",
       " 'val_loss': [0.20797176659107208,\n",
       "  0.20454248785972595,\n",
       "  0.21937543153762817,\n",
       "  0.26783475279808044,\n",
       "  0.24264554679393768,\n",
       "  0.2538369297981262,\n",
       "  0.3141615688800812,\n",
       "  0.28006067872047424,\n",
       "  0.3170294463634491,\n",
       "  0.33351439237594604],\n",
       " 'val_accuracy': [0.9233333468437195,\n",
       "  0.9259999990463257,\n",
       "  0.925000011920929,\n",
       "  0.9085000157356262,\n",
       "  0.9194166660308838,\n",
       "  0.9162499904632568,\n",
       "  0.9076666831970215,\n",
       "  0.9152500033378601,\n",
       "  0.9113333225250244,\n",
       "  0.9089166522026062]}"
      ]
     },
     "execution_count": 44,
     "metadata": {},
     "output_type": "execute_result"
    }
   ],
   "source": [
    "history.history\n"
   ]
  },
  {
   "cell_type": "code",
   "execution_count": 57,
   "metadata": {},
   "outputs": [
    {
     "data": {
      "image/png": "[encoded data removed]",
      "text/plain": [
       "<Figure size 640x480 with 1 Axes>"
      ]
     },
     "metadata": {},
     "output_type": "display_data"
    },
    {
     "data": {
      "image/png": "[encoded data removed]",
      "text/plain": [
       "<Figure size 640x480 with 1 Axes>"
      ]
     },
     "metadata": {},
     "output_type": "display_data"
    }
   ],
   "source": [
    "accuracy = history.history['accuracy']\n",
    "val_accuracy = history.history['val_accuracy']\n",
    "\n",
    "loss = history.history['loss']\n",
    "val_loss = history.history['val_loss']\n",
    "\n",
    "epochs = range(1, len(accuracy) + 1)\n",
    "\n",
    "plt.plot(epochs, accuracy, label='train accuracy')\n",
    "plt.plot(epochs, val_accuracy, label='validation accuracy')\n",
    "plt.legend()\n",
    "plt.figure()\n",
    "plt.plot(epochs, loss, label='train loss')\n",
    "plt.plot(epochs, val_loss, label='validation loss')\n",
    "plt.legend()\n",
    "\n",
    "plt.show()"
   ]
  },
  {
   "cell_type": "code",
   "execution_count": null,
   "metadata": {},
   "outputs": [],
   "source": []
  }
 ],
 "metadata": {
  "kernelspec": {
   "display_name": "kdigital-ocr-env",
   "language": "python",
   "name": "python3"
  },
  "language_info": {
   "codemirror_mode": {
    "name": "ipython",
    "version": 3
   },
   "file_extension": ".py",
   "mimetype": "text/x-python",
   "name": "python",
   "nbconvert_exporter": "python",
   "pygments_lexer": "ipython3",
   "version": "3.8.15"
  },
  "orig_nbformat": 4,
  "vscode": {
   "interpreter": {
    "hash": "ea0dc718a059573099e441c9475ee264e7f48073538e95f58a36540246fb1492"
   }
  }
 },
 "nbformat": 4,
 "nbformat_minor": 2
}
