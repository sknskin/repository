{
 "cells": [
  {
   "cell_type": "code",
   "execution_count": 1,
   "metadata": {},
   "outputs": [],
   "source": [
    "#Kako OCR api\n",
    "import json\n",
    "\n",
    "import requests\n",
    "import sys\n",
    "\n",
    "import cv2"
   ]
  },
  {
   "cell_type": "code",
   "execution_count": 2,
   "metadata": {},
   "outputs": [],
   "source": [
    "LIMIT_PX = 1024\n",
    "LIMIT_BYTE = 1024*1024  # 1MB\n",
    "LIMIT_BOX = 40\n",
    "\n",
    "\n",
    "def kakao_ocr_resize(image_path: str):\n",
    "    \"\"\"\n",
    "    ocr detect/recognize api helper\n",
    "    ocr api의 제약사항이 넘어서는 이미지는 요청 이전에 전처리가 필요.\n",
    "\n",
    "    pixel 제약사항 초과: resize\n",
    "    용량 제약사항 초과  : 다른 포맷으로 압축, 이미지 분할 등의 처리 필요. (예제에서 제공하지 않음)\n",
    "\n",
    "    :param image_path: 이미지파일 경로\n",
    "    :return:\n",
    "    \"\"\"\n",
    "    image = cv2.imread(image_path)\n",
    "    height, width, _ = image.shape\n",
    "\n",
    "    if LIMIT_PX < height or LIMIT_PX < width:\n",
    "        ratio = float(LIMIT_PX) / max(height, width)\n",
    "        image = cv2.resize(image, None, fx=ratio, fy=ratio)\n",
    "        height, width, _ = height, width, _ = image.shape\n",
    "\n",
    "        # api 사용전에 이미지가 resize된 경우, recognize시 resize된 결과를 사용해야함.\n",
    "        image_path = \"{}_resized.jpg\".format(image_path)\n",
    "        cv2.imwrite(image_path, image)\n",
    "\n",
    "        return image_path\n",
    "    return None\n",
    "\n",
    "\n",
    "def kakao_ocr(image_path: str, appkey: str):\n",
    "    \"\"\"\n",
    "    OCR api request example\n",
    "    :param image_path: 이미지파일 경로\n",
    "    :param appkey: 카카오 앱 REST API 키\n",
    "    \"\"\"\n",
    "    API_URL = 'https://dapi.kakao.com/v2/vision/text/ocr'\n",
    "\n",
    "    headers = {'Authorization': 'KakaoAK {}'.format(appkey)}\n",
    "\n",
    "    image = cv2.imread(image_path)\n",
    "    jpeg_image = cv2.imencode(\".jpg\", image)[1]\n",
    "    data = jpeg_image.tobytes()\n",
    "\n",
    "\n",
    "    return requests.post(API_URL, headers=headers, files={\"image\": data})"
   ]
  },
  {
   "cell_type": "code",
   "execution_count": 6,
   "metadata": {},
   "outputs": [
    {
     "name": "stdout",
     "output_type": "stream",
     "text": [
      "[OCR] output:\n",
      "{\n",
      "  \"result\": [\n",
      "    {\n",
      "      \"boxes\": [\n",
      "        [\n",
      "          206,\n",
      "          117\n",
      "        ],\n",
      "        [\n",
      "          224,\n",
      "          117\n",
      "        ],\n",
      "        [\n",
      "          224,\n",
      "          134\n",
      "        ],\n",
      "        [\n",
      "          206,\n",
      "          134\n",
      "        ]\n",
      "      ],\n",
      "      \"recognition_words\": [\n",
      "        \"12\"\n",
      "      ]\n",
      "    },\n",
      "    {\n",
      "      \"boxes\": [\n",
      "        [\n",
      "          239,\n",
      "          116\n",
      "        ],\n",
      "        [\n",
      "          265,\n",
      "          117\n",
      "        ],\n",
      "        [\n",
      "          264,\n",
      "          133\n",
      "        ],\n",
      "        [\n",
      "          238,\n",
      "          132\n",
      "        ]\n",
      "      ],\n",
      "      \"recognition_words\": [\n",
      "        \"94\"\n",
      "      ]\n",
      "    },\n",
      "    {\n",
      "      \"boxes\": [\n",
      "        [\n",
      "          277,\n",
      "          112\n",
      "        ],\n",
      "        [\n",
      "          397,\n",
      "          116\n",
      "        ],\n",
      "        [\n",
      "          396,\n",
      "          139\n",
      "        ],\n",
      "        [\n",
      "          277,\n",
      "          136\n",
      "        ]\n",
      "      ],\n",
      "      \"recognition_words\": [\n",
      "        \"627721-12\"\n",
      "      ]\n",
      "    }\n",
      "  ]\n",
      "}\n",
      "\n"
     ]
    }
   ],
   "source": [
    "# def main():\n",
    "#     if len(sys.argv) != 3:\n",
    "#         print(\"Please run with args: $ python example.py /path/to/image appkey\")\n",
    "#     image_path, appkey = '/content/drive/MyDrive/필요한이미지.jpg', '자기가 받은 Rest API 키'\n",
    "\n",
    "image_path, appkey = 'data-files/identifyCard.png', '3606a90ae3f0a7d4df69fab8ccaaa457' # 손병우 REST API\n",
    "resize_impath = kakao_ocr_resize(image_path)\n",
    "if resize_impath is not None:\n",
    "    image_path = resize_impath\n",
    "    # print(\"원본 대신 리사이즈된 이미지를 사용합니다.\")\n",
    "\n",
    "output = kakao_ocr(image_path, appkey).json()\n",
    "#아스키코드 해제해줘야 한국어로 나옴\n",
    "print(\"[OCR] output:\\n{}\\n\".format(json.dumps(output, ensure_ascii=False,sort_keys=True, indent=2)))"
   ]
  },
  {
   "cell_type": "code",
   "execution_count": 11,
   "metadata": {},
   "outputs": [
    {
     "data": {
      "text/plain": [
       "dict"
      ]
     },
     "execution_count": 11,
     "metadata": {},
     "output_type": "execute_result"
    }
   ],
   "source": [
    "type(output)"
   ]
  },
  {
   "cell_type": "code",
   "execution_count": 12,
   "metadata": {},
   "outputs": [
    {
     "data": {
      "text/plain": [
       "dict_keys(['result'])"
      ]
     },
     "execution_count": 12,
     "metadata": {},
     "output_type": "execute_result"
    }
   ],
   "source": [
    "output.keys()"
   ]
  },
  {
   "cell_type": "code",
   "execution_count": 13,
   "metadata": {},
   "outputs": [
    {
     "data": {
      "text/plain": [
       "list"
      ]
     },
     "execution_count": 13,
     "metadata": {},
     "output_type": "execute_result"
    }
   ],
   "source": [
    "type(output[\"result\"])"
   ]
  },
  {
   "cell_type": "code",
   "execution_count": 14,
   "metadata": {},
   "outputs": [
    {
     "data": {
      "text/plain": [
       "42"
      ]
     },
     "execution_count": 14,
     "metadata": {},
     "output_type": "execute_result"
    }
   ],
   "source": [
    "len(output['result'])"
   ]
  },
  {
   "cell_type": "code",
   "execution_count": 4,
   "metadata": {},
   "outputs": [
    {
     "data": {
      "text/plain": [
       "{'boxes': [[72, 13], [118, 13], [118, 31], [72, 31]],\n",
       " 'recognition_words': ['모바일']}"
      ]
     },
     "execution_count": 4,
     "metadata": {},
     "output_type": "execute_result"
    }
   ],
   "source": [
    "output['result'][0]"
   ]
  },
  {
   "cell_type": "code",
   "execution_count": 7,
   "metadata": {},
   "outputs": [
    {
     "name": "stdout",
     "output_type": "stream",
     "text": [
      "['12']\n",
      "['94']\n",
      "['627721-12']\n"
     ]
    }
   ],
   "source": [
    "for item in output['result']:\n",
    "    print(item['recognition_words'])\n",
    "    "
   ]
  },
  {
   "cell_type": "code",
   "execution_count": null,
   "metadata": {},
   "outputs": [],
   "source": []
  }
 ],
 "metadata": {
  "kernelspec": {
   "display_name": "python-class",
   "language": "python",
   "name": "python3"
  },
  "language_info": {
   "codemirror_mode": {
    "name": "ipython",
    "version": 3
   },
   "file_extension": ".py",
   "mimetype": "text/x-python",
   "name": "python",
   "nbconvert_exporter": "python",
   "pygments_lexer": "ipython3",
   "version": "3.8.15 (default, Nov 24 2022, 09:04:07) \n[Clang 14.0.6 ]"
  },
  "orig_nbformat": 4,
  "vscode": {
   "interpreter": {
    "hash": "4cf43b6a9168ded622802e2133bb28333a4c63424171b7f69deb99cfed6da6d7"
   }
  }
 },
 "nbformat": 4,
 "nbformat_minor": 2
}
